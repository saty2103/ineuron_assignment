{
 "cells": [
  {
   "cell_type": "markdown",
   "metadata": {},
   "source": [
    "## Solution of Question 1.1"
   ]
  },
  {
   "cell_type": "code",
   "execution_count": 12,
   "metadata": {},
   "outputs": [],
   "source": [
    "class length_of_triangle_sides:\n",
    "    def __init__(self,side1,side2,side3):\n",
    "        self.side1 = side1\n",
    "        self.side2 = side2\n",
    "        self.side3 = side3"
   ]
  },
  {
   "cell_type": "code",
   "execution_count": 13,
   "metadata": {},
   "outputs": [],
   "source": [
    "class area_of_triangle(length_of_triangle_sides):\n",
    "    def __init__(self,side1,side2,side3):\n",
    "        super().__init__(side1,side2,side3)\n",
    "        \n",
    "    def __str__(self):\n",
    "        area = (((self.side1+self.side2+self.side3)/2)*(((self.side1+self.side2+self.side3)/2)-self.side1)*(((self.side1+self.side2+self.side3)/2)-self.side2)*(((self.side1+self.side2+self.side3)/2)-self.side3))**0.5\n",
    "        return \"The Area of Triangle is {} sq. units\".format(area)"
   ]
  },
  {
   "cell_type": "code",
   "execution_count": 14,
   "metadata": {},
   "outputs": [
    {
     "name": "stdin",
     "output_type": "stream",
     "text": [
      "Enter the length of side1: 3\n",
      "Enter the length of side2: 4\n",
      "Enter the length of side3: 5\n"
     ]
    },
    {
     "name": "stdout",
     "output_type": "stream",
     "text": [
      "The Area of Triangle is 6.0 sq. units\n"
     ]
    }
   ],
   "source": [
    "side1 = int(input(\"Enter the length of side1:\"))\n",
    "side2 = int(input(\"Enter the length of side2:\"))\n",
    "side3 = int(input(\"Enter the length of side3:\"))\n",
    "triangle = area_of_triangle(side1,side2,side3)\n",
    "print(triangle)"
   ]
  },
  {
   "cell_type": "markdown",
   "metadata": {},
   "source": [
    "## Solution of Question 1.2"
   ]
  },
  {
   "cell_type": "code",
   "execution_count": 15,
   "metadata": {},
   "outputs": [],
   "source": [
    "def filter_long_words(list_of_words,cut_off_length:int):\n",
    "    req_list_of_words = []\n",
    "    for i in range(len(list_of_words)):\n",
    "        if len(list_of_words[i]) > cut_off_length:\n",
    "            req_list_of_words.append(list_of_words[i])\n",
    "    \n",
    "    return req_list_of_words\n",
    "            "
   ]
  },
  {
   "cell_type": "code",
   "execution_count": 16,
   "metadata": {},
   "outputs": [],
   "source": [
    "lst = [\"Maths\",\"Statistics\",\"Probability\",\"Python\",\"Regression\",\"Classification\",\"LinReg\",\"LogReg\",\"CNN\",\"RNN\",\"ANN\"]"
   ]
  },
  {
   "cell_type": "code",
   "execution_count": 17,
   "metadata": {},
   "outputs": [
    {
     "data": {
      "text/plain": [
       "['Probability', 'Classification']"
      ]
     },
     "execution_count": 17,
     "metadata": {},
     "output_type": "execute_result"
    }
   ],
   "source": [
    "filter_long_words(lst,10)"
   ]
  },
  {
   "cell_type": "markdown",
   "metadata": {},
   "source": [
    "## Solution of Question 2.1"
   ]
  },
  {
   "cell_type": "code",
   "execution_count": 18,
   "metadata": {},
   "outputs": [],
   "source": [
    "def map_words_to_length(list_of_words):\n",
    "    length_of_words = []\n",
    "    for i in range(len(list_of_words)):\n",
    "        length_of_words.append(len(list_of_words[i]))\n",
    "                               \n",
    "    return length_of_words"
   ]
  },
  {
   "cell_type": "code",
   "execution_count": 19,
   "metadata": {},
   "outputs": [],
   "source": [
    "lst = [\"Maths\",\"Statistics\",\"Probability\",\"Python\",\"Regression\",\"Classification\",\"LinReg\",\"LogReg\",\"CNN\",\"RNN\",\"ANN\"]"
   ]
  },
  {
   "cell_type": "code",
   "execution_count": 20,
   "metadata": {},
   "outputs": [
    {
     "data": {
      "text/plain": [
       "[5, 10, 11, 6, 10, 14, 6, 6, 3, 3, 3]"
      ]
     },
     "execution_count": 20,
     "metadata": {},
     "output_type": "execute_result"
    }
   ],
   "source": [
    "map_words_to_length(lst)"
   ]
  },
  {
   "cell_type": "markdown",
   "metadata": {},
   "source": [
    "## Solution of Question 2.2"
   ]
  },
  {
   "cell_type": "code",
   "execution_count": 21,
   "metadata": {},
   "outputs": [],
   "source": [
    "def vowel_hunter(char:str):\n",
    "    if char=='a' or char=='e' or char=='i' or char=='o' or char=='u':\n",
    "        return True\n",
    "    elif char=='A' or char=='E' or char=='I' or char=='O' or char=='U':\n",
    "        return True\n",
    "    else:\n",
    "        return False"
   ]
  },
  {
   "cell_type": "code",
   "execution_count": 22,
   "metadata": {},
   "outputs": [
    {
     "data": {
      "text/plain": [
       "False"
      ]
     },
     "execution_count": 22,
     "metadata": {},
     "output_type": "execute_result"
    }
   ],
   "source": [
    "vowel_hunter('c')"
   ]
  },
  {
   "cell_type": "code",
   "execution_count": null,
   "metadata": {},
   "outputs": [],
   "source": []
  }
 ],
 "metadata": {
  "kernelspec": {
   "display_name": "Python 3",
   "language": "python",
   "name": "python3"
  },
  "language_info": {
   "codemirror_mode": {
    "name": "ipython",
    "version": 3
   },
   "file_extension": ".py",
   "mimetype": "text/x-python",
   "name": "python",
   "nbconvert_exporter": "python",
   "pygments_lexer": "ipython3",
   "version": "3.8.3"
  }
 },
 "nbformat": 4,
 "nbformat_minor": 4
}
