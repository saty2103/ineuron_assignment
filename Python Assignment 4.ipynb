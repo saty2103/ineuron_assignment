{
 "cells": [
  {
   "cell_type": "markdown",
   "metadata": {},
   "source": [
    "## Solution of Question 1.1"
   ]
  },
  {
   "cell_type": "code",
   "execution_count": 6,
   "metadata": {},
   "outputs": [],
   "source": [
    "class length_of_triangle_sides:\n",
    "    def __init__(self,side1,side2,side3):\n",
    "        self.side1 = side1\n",
    "        self.side2 = side2\n",
    "        self.side3 = side3"
   ]
  },
  {
   "cell_type": "code",
   "execution_count": 7,
   "metadata": {},
   "outputs": [
    {
     "ename": "NameError",
     "evalue": "name 'length_of_traingle_sides' is not defined",
     "output_type": "error",
     "traceback": [
      "\u001b[1;31m---------------------------------------------------------------------------\u001b[0m",
      "\u001b[1;31mNameError\u001b[0m                                 Traceback (most recent call last)",
      "\u001b[1;32m<ipython-input-7-9e1be69b55f6>\u001b[0m in \u001b[0;36m<module>\u001b[1;34m\u001b[0m\n\u001b[1;32m----> 1\u001b[1;33m \u001b[1;32mclass\u001b[0m \u001b[0marea_of_triangle\u001b[0m\u001b[1;33m(\u001b[0m\u001b[0mlength_of_traingle_sides\u001b[0m\u001b[1;33m)\u001b[0m\u001b[1;33m:\u001b[0m\u001b[1;33m\u001b[0m\u001b[1;33m\u001b[0m\u001b[0m\n\u001b[0m\u001b[0;32m      2\u001b[0m     \u001b[1;32mdef\u001b[0m \u001b[0m__init__\u001b[0m\u001b[1;33m(\u001b[0m\u001b[0mself\u001b[0m\u001b[1;33m,\u001b[0m\u001b[0mside1\u001b[0m\u001b[1;33m,\u001b[0m\u001b[0mside2\u001b[0m\u001b[1;33m,\u001b[0m\u001b[0mside3\u001b[0m\u001b[1;33m)\u001b[0m\u001b[1;33m:\u001b[0m\u001b[1;33m\u001b[0m\u001b[1;33m\u001b[0m\u001b[0m\n\u001b[0;32m      3\u001b[0m         \u001b[0msuper\u001b[0m\u001b[1;33m(\u001b[0m\u001b[1;33m)\u001b[0m\u001b[1;33m.\u001b[0m\u001b[0m__init__\u001b[0m\u001b[1;33m(\u001b[0m\u001b[0mside1\u001b[0m\u001b[1;33m,\u001b[0m\u001b[0mside2\u001b[0m\u001b[1;33m,\u001b[0m\u001b[0mside3\u001b[0m\u001b[1;33m)\u001b[0m\u001b[1;33m\u001b[0m\u001b[1;33m\u001b[0m\u001b[0m\n\u001b[0;32m      4\u001b[0m \u001b[1;33m\u001b[0m\u001b[0m\n\u001b[0;32m      5\u001b[0m     \u001b[1;32mdef\u001b[0m \u001b[0m__str__\u001b[0m\u001b[1;33m(\u001b[0m\u001b[0mself\u001b[0m\u001b[1;33m)\u001b[0m\u001b[1;33m:\u001b[0m\u001b[1;33m\u001b[0m\u001b[1;33m\u001b[0m\u001b[0m\n",
      "\u001b[1;31mNameError\u001b[0m: name 'length_of_traingle_sides' is not defined"
     ]
    }
   ],
   "source": [
    "class area_of_triangle(length_of_triangle_sides):\n",
    "    def __init__(self,side1,side2,side3):\n",
    "        super().__init__(side1,side2,side3)\n",
    "        \n",
    "    def __str__(self):\n",
    "        area = (((self.side1+self.side2+self.side3)/2)*(((self.side1+self.side2+self.side3)/2)-self.side1)*(((self.side1+self.side2+self.side3)/2)-self.side2)*(((self.side1+self.side2+self.side3)/2)-self.side3))**0.5\n",
    "        return \"The Area of Triangle is {} sq. units\".format(area)"
   ]
  },
  {
   "cell_type": "code",
   "execution_count": null,
   "metadata": {},
   "outputs": [],
   "source": [
    "side1 = int(input(\"Enter the length of side1:\"))\n",
    "side2 = int(input(\"Enter the length of side2:\"))\n",
    "side3 = int(input(\"Enter the length of side3:\"))\n",
    "triangle = area_of_triangle(side1,side2,side3)\n",
    "print(triangle)"
   ]
  },
  {
   "cell_type": "markdown",
   "metadata": {},
   "source": [
    "## Solution of Question 1.2"
   ]
  },
  {
   "cell_type": "code",
   "execution_count": null,
   "metadata": {},
   "outputs": [],
   "source": [
    "def filter_long_words(list_of_words,cut_off_length:int):\n",
    "    req_list_of_words = []\n",
    "    for i in range(len(list_of_words)):\n",
    "        if len(list_of_words[i]) > cut_off_length:\n",
    "            req_list_of_words.append(list_of_words[i])\n",
    "    \n",
    "    return req_list_of_words\n",
    "            "
   ]
  },
  {
   "cell_type": "code",
   "execution_count": null,
   "metadata": {},
   "outputs": [],
   "source": [
    "lst = [\"Maths\",\"Statistics\",\"Probability\",\"Python\",\"Regression\",\"Classification\",\"LinReg\",\"LogReg\",\"CNN\",\"RNN\",\"ANN\"]"
   ]
  },
  {
   "cell_type": "code",
   "execution_count": null,
   "metadata": {},
   "outputs": [],
   "source": [
    "filter_long_words(lst,10)"
   ]
  },
  {
   "cell_type": "markdown",
   "metadata": {},
   "source": [
    "## Solution of Question 2.1"
   ]
  },
  {
   "cell_type": "code",
   "execution_count": null,
   "metadata": {},
   "outputs": [],
   "source": [
    "def map_words_to_length(list_of_words):\n",
    "    length_of_words = []\n",
    "    for i in range(len(list_of_words)):\n",
    "        length_of_words.append(len(list_of_words[i]))\n",
    "                               \n",
    "    return length_of_words"
   ]
  },
  {
   "cell_type": "code",
   "execution_count": null,
   "metadata": {},
   "outputs": [],
   "source": [
    "lst = [\"Maths\",\"Statistics\",\"Probability\",\"Python\",\"Regression\",\"Classification\",\"LinReg\",\"LogReg\",\"CNN\",\"RNN\",\"ANN\"]"
   ]
  },
  {
   "cell_type": "code",
   "execution_count": null,
   "metadata": {},
   "outputs": [],
   "source": [
    "map_words_to_length(lst)"
   ]
  },
  {
   "cell_type": "markdown",
   "metadata": {},
   "source": [
    "## Solution of Question 2.2"
   ]
  },
  {
   "cell_type": "code",
   "execution_count": null,
   "metadata": {},
   "outputs": [],
   "source": [
    "def vowel_hunter(char:str):\n",
    "    if char=='a' or char=='e' or char=='i' or char=='o' or char=='u':\n",
    "        return True\n",
    "    elif char=='A' or char=='E' or char=='I' or char=='O' or char=='U':\n",
    "        return True\n",
    "    else:\n",
    "        return False"
   ]
  },
  {
   "cell_type": "code",
   "execution_count": 3,
   "metadata": {},
   "outputs": [
    {
     "ename": "NameError",
     "evalue": "name 'vowel_hunter' is not defined",
     "output_type": "error",
     "traceback": [
      "\u001b[1;31m---------------------------------------------------------------------------\u001b[0m",
      "\u001b[1;31mNameError\u001b[0m                                 Traceback (most recent call last)",
      "\u001b[1;32m<ipython-input-3-14eea2fe8fd1>\u001b[0m in \u001b[0;36m<module>\u001b[1;34m\u001b[0m\n\u001b[1;32m----> 1\u001b[1;33m \u001b[0mvowel_hunter\u001b[0m\u001b[1;33m(\u001b[0m\u001b[1;34m'c'\u001b[0m\u001b[1;33m)\u001b[0m\u001b[1;33m\u001b[0m\u001b[1;33m\u001b[0m\u001b[0m\n\u001b[0m",
      "\u001b[1;31mNameError\u001b[0m: name 'vowel_hunter' is not defined"
     ]
    }
   ],
   "source": [
    "vowel_hunter('c')"
   ]
  },
  {
   "cell_type": "code",
   "execution_count": null,
   "metadata": {},
   "outputs": [],
   "source": []
  }
 ],
 "metadata": {
  "kernelspec": {
   "display_name": "Python 3",
   "language": "python",
   "name": "python3"
  },
  "language_info": {
   "codemirror_mode": {
    "name": "ipython",
    "version": 3
   },
   "file_extension": ".py",
   "mimetype": "text/x-python",
   "name": "python",
   "nbconvert_exporter": "python",
   "pygments_lexer": "ipython3",
   "version": "3.8.3"
  }
 },
 "nbformat": 4,
 "nbformat_minor": 4
}
